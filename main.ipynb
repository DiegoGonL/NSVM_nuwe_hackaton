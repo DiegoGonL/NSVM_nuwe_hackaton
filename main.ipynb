{
 "cells": [
  {
   "cell_type": "markdown",
   "metadata": {},
   "source": [
    "## Imports\n",
    "Firs we import the libreries that we will use."
   ]
  },
  {
   "cell_type": "code",
   "execution_count": 66,
   "metadata": {},
   "outputs": [],
   "source": [
    "import os\n",
    "import pandas as pd\n",
    "import numpy as np\n",
    "from keras import layers\n",
    "import matplotlib.pyplot as plt\n",
    "from keras.models import Model\n",
    "from keras.optimizers import Adam\n",
    "from keras.callbacks import ModelCheckpoint, EarlyStopping\n",
    "from keras.utils import to_categorical\n",
    "from sklearn.metrics import classification_report\n",
    "from sklearn.metrics import confusion_matrix\n",
    "from geopy.geocoders import Nominatim\n",
    "import cv2\n",
    "from sklearn.metrics import f1_score\n",
    "np.random.seed(1)"
   ]
  },
  {
   "cell_type": "markdown",
   "metadata": {},
   "source": [
    "## Data science\n",
    "We will load the dato from the available datasets."
   ]
  },
  {
   "cell_type": "code",
   "execution_count": 166,
   "metadata": {},
   "outputs": [],
   "source": [
    "data_path = 'C:/Users/Usuario/Desktop/HACK/hack2/NSVM_nuwe_hackaton/train_test_data'\n",
    "\n",
    "train_path = f'{data_path}/train.csv'\n",
    "train_states_path = f'{data_path}/train_states.csv'\n",
    "test_path = f'{data_path}/test.csv'\n",
    "test_states_path = f'{data_path}/test_states.csv'\n",
    "train_image_path = f'{data_path}/train'\n",
    "test_image_path = f'{data_path}/test'"
   ]
  },
  {
   "cell_type": "code",
   "execution_count": 167,
   "metadata": {},
   "outputs": [
    {
     "data": {
      "text/html": [
       "<div>\n",
       "<style scoped>\n",
       "    .dataframe tbody tr th:only-of-type {\n",
       "        vertical-align: middle;\n",
       "    }\n",
       "\n",
       "    .dataframe tbody tr th {\n",
       "        vertical-align: top;\n",
       "    }\n",
       "\n",
       "    .dataframe thead th {\n",
       "        text-align: right;\n",
       "    }\n",
       "</style>\n",
       "<table border=\"1\" class=\"dataframe\">\n",
       "  <thead>\n",
       "    <tr style=\"text-align: right;\">\n",
       "      <th></th>\n",
       "      <th>label</th>\n",
       "      <th>latitude</th>\n",
       "      <th>longitude</th>\n",
       "      <th>year</th>\n",
       "      <th>example_path</th>\n",
       "      <th>state</th>\n",
       "    </tr>\n",
       "  </thead>\n",
       "  <tbody>\n",
       "    <tr>\n",
       "      <th>0</th>\n",
       "      <td>0</td>\n",
       "      <td>-2.051853</td>\n",
       "      <td>111.826093</td>\n",
       "      <td>2001</td>\n",
       "      <td>train_test_data/train/1297.png</td>\n",
       "      <td>Kalimantan Tengah</td>\n",
       "    </tr>\n",
       "    <tr>\n",
       "      <th>1</th>\n",
       "      <td>2</td>\n",
       "      <td>-1.989349</td>\n",
       "      <td>105.309496</td>\n",
       "      <td>2013</td>\n",
       "      <td>train_test_data/train/1199.png</td>\n",
       "      <td>Kepulauan Bangka Belitung</td>\n",
       "    </tr>\n",
       "    <tr>\n",
       "      <th>2</th>\n",
       "      <td>0</td>\n",
       "      <td>1.223256</td>\n",
       "      <td>100.702217</td>\n",
       "      <td>2014</td>\n",
       "      <td>train_test_data/train/1348.png</td>\n",
       "      <td>Riau</td>\n",
       "    </tr>\n",
       "    <tr>\n",
       "      <th>3</th>\n",
       "      <td>0</td>\n",
       "      <td>-2.342948</td>\n",
       "      <td>103.890226</td>\n",
       "      <td>2008</td>\n",
       "      <td>train_test_data/train/2214.png</td>\n",
       "      <td>Sumatera Selatan</td>\n",
       "    </tr>\n",
       "    <tr>\n",
       "      <th>4</th>\n",
       "      <td>0</td>\n",
       "      <td>-0.126555</td>\n",
       "      <td>101.758175</td>\n",
       "      <td>2011</td>\n",
       "      <td>train_test_data/train/2220.png</td>\n",
       "      <td>Riau</td>\n",
       "    </tr>\n",
       "  </tbody>\n",
       "</table>\n",
       "</div>"
      ],
      "text/plain": [
       "   label  latitude   longitude  year                    example_path  \\\n",
       "0      0 -2.051853  111.826093  2001  train_test_data/train/1297.png   \n",
       "1      2 -1.989349  105.309496  2013  train_test_data/train/1199.png   \n",
       "2      0  1.223256  100.702217  2014  train_test_data/train/1348.png   \n",
       "3      0 -2.342948  103.890226  2008  train_test_data/train/2214.png   \n",
       "4      0 -0.126555  101.758175  2011  train_test_data/train/2220.png   \n",
       "\n",
       "                       state  \n",
       "0          Kalimantan Tengah  \n",
       "1  Kepulauan Bangka Belitung  \n",
       "2                       Riau  \n",
       "3           Sumatera Selatan  \n",
       "4                       Riau  "
      ]
     },
     "execution_count": 167,
     "metadata": {},
     "output_type": "execute_result"
    }
   ],
   "source": [
    "# Read the train.csv file\n",
    "train_df = pd.read_csv(train_states_path)\n",
    "test_df = pd.read_csv(test_states_path)\n",
    "\n",
    "train_df.head()"
   ]
  },
  {
   "cell_type": "code",
   "execution_count": 168,
   "metadata": {},
   "outputs": [
    {
     "data": {
      "text/plain": [
       "(635, 5)"
      ]
     },
     "execution_count": 168,
     "metadata": {},
     "output_type": "execute_result"
    }
   ],
   "source": [
    "test_df.shape"
   ]
  },
  {
   "cell_type": "code",
   "execution_count": 169,
   "metadata": {},
   "outputs": [
    {
     "data": {
      "text/plain": [
       "(1714, 6)"
      ]
     },
     "execution_count": 169,
     "metadata": {},
     "output_type": "execute_result"
    }
   ],
   "source": [
    "train_df.shape"
   ]
  },
  {
   "cell_type": "markdown",
   "metadata": {},
   "source": [
    "We have applied data engineering to the dataset provided. As the latitude and longitude data are not really usefull by itselfs we have used a Python library to obtain the country where that coordinates are located. As we have seen that every picture was from Indonesia, then we have decieded to use the state. So we have obtained the state of each image and we have used a ML technique known as One Hot Encoding in order to encode the states and to convert the names of the states to usefull information to feed into the model."
   ]
  },
  {
   "cell_type": "code",
   "execution_count": 69,
   "metadata": {},
   "outputs": [
    {
     "name": "stdout",
     "output_type": "stream",
     "text": [
      "Indonesia Kalimantan Tengah\n",
      "Indonesia Kepulauan Bangka Belitung\n",
      "Indonesia Riau\n",
      "Indonesia Sumatera Selatan\n",
      "Indonesia Riau\n",
      "Indonesia Jambi\n",
      "Indonesia Riau\n",
      "Indonesia Kalimantan Barat\n"
     ]
    },
    {
     "ename": "KeyboardInterrupt",
     "evalue": "",
     "output_type": "error",
     "traceback": [
      "\u001B[1;31m---------------------------------------------------------------------------\u001B[0m",
      "\u001B[1;31mKeyboardInterrupt\u001B[0m                         Traceback (most recent call last)",
      "Input \u001B[1;32mIn [69]\u001B[0m, in \u001B[0;36m<cell line: 13>\u001B[1;34m()\u001B[0m\n\u001B[0;32m     10\u001B[0m     \u001B[38;5;28;01mreturn\u001B[39;00m country, state\n\u001B[0;32m     12\u001B[0m \u001B[38;5;66;03m# Apply the function to the train dataframe\u001B[39;00m\n\u001B[1;32m---> 13\u001B[0m train_df[\u001B[38;5;124m'\u001B[39m\u001B[38;5;124mcountry\u001B[39m\u001B[38;5;124m'\u001B[39m], train_df[\u001B[38;5;124m'\u001B[39m\u001B[38;5;124mstate\u001B[39m\u001B[38;5;124m'\u001B[39m] \u001B[38;5;241m=\u001B[39m \u001B[38;5;28mzip\u001B[39m(\u001B[38;5;241m*\u001B[39m\u001B[43mtrain_df\u001B[49m\u001B[38;5;241;43m.\u001B[39;49m\u001B[43mapply\u001B[49m\u001B[43m(\u001B[49m\u001B[38;5;28;43;01mlambda\u001B[39;49;00m\u001B[43m \u001B[49m\u001B[43mx\u001B[49m\u001B[43m:\u001B[49m\u001B[43m \u001B[49m\u001B[43mget_country_state\u001B[49m\u001B[43m(\u001B[49m\u001B[43mx\u001B[49m\u001B[43m[\u001B[49m\u001B[38;5;124;43m'\u001B[39;49m\u001B[38;5;124;43mlatitude\u001B[39;49m\u001B[38;5;124;43m'\u001B[39;49m\u001B[43m]\u001B[49m\u001B[43m,\u001B[49m\u001B[43m \u001B[49m\u001B[43mx\u001B[49m\u001B[43m[\u001B[49m\u001B[38;5;124;43m'\u001B[39;49m\u001B[38;5;124;43mlongitude\u001B[39;49m\u001B[38;5;124;43m'\u001B[39;49m\u001B[43m]\u001B[49m\u001B[43m)\u001B[49m\u001B[43m,\u001B[49m\u001B[43m \u001B[49m\u001B[43maxis\u001B[49m\u001B[38;5;241;43m=\u001B[39;49m\u001B[38;5;241;43m1\u001B[39;49m\u001B[43m)\u001B[49m)\n\u001B[0;32m     15\u001B[0m \u001B[38;5;28mprint\u001B[39m(train_df[\u001B[38;5;124m'\u001B[39m\u001B[38;5;124mcountry\u001B[39m\u001B[38;5;124m'\u001B[39m]\u001B[38;5;241m.\u001B[39mvalue_counts())\n\u001B[0;32m     16\u001B[0m \u001B[38;5;28mprint\u001B[39m(train_df[\u001B[38;5;124m'\u001B[39m\u001B[38;5;124mcountry\u001B[39m\u001B[38;5;124m'\u001B[39m]\u001B[38;5;241m.\u001B[39munique())\n",
      "File \u001B[1;32mG:\\Anaconda\\envs\\TFG2\\lib\\site-packages\\pandas\\core\\frame.py:8839\u001B[0m, in \u001B[0;36mDataFrame.apply\u001B[1;34m(self, func, axis, raw, result_type, args, **kwargs)\u001B[0m\n\u001B[0;32m   8828\u001B[0m \u001B[38;5;28;01mfrom\u001B[39;00m \u001B[38;5;21;01mpandas\u001B[39;00m\u001B[38;5;21;01m.\u001B[39;00m\u001B[38;5;21;01mcore\u001B[39;00m\u001B[38;5;21;01m.\u001B[39;00m\u001B[38;5;21;01mapply\u001B[39;00m \u001B[38;5;28;01mimport\u001B[39;00m frame_apply\n\u001B[0;32m   8830\u001B[0m op \u001B[38;5;241m=\u001B[39m frame_apply(\n\u001B[0;32m   8831\u001B[0m     \u001B[38;5;28mself\u001B[39m,\n\u001B[0;32m   8832\u001B[0m     func\u001B[38;5;241m=\u001B[39mfunc,\n\u001B[1;32m   (...)\u001B[0m\n\u001B[0;32m   8837\u001B[0m     kwargs\u001B[38;5;241m=\u001B[39mkwargs,\n\u001B[0;32m   8838\u001B[0m )\n\u001B[1;32m-> 8839\u001B[0m \u001B[38;5;28;01mreturn\u001B[39;00m \u001B[43mop\u001B[49m\u001B[38;5;241;43m.\u001B[39;49m\u001B[43mapply\u001B[49m\u001B[43m(\u001B[49m\u001B[43m)\u001B[49m\u001B[38;5;241m.\u001B[39m__finalize__(\u001B[38;5;28mself\u001B[39m, method\u001B[38;5;241m=\u001B[39m\u001B[38;5;124m\"\u001B[39m\u001B[38;5;124mapply\u001B[39m\u001B[38;5;124m\"\u001B[39m)\n",
      "File \u001B[1;32mG:\\Anaconda\\envs\\TFG2\\lib\\site-packages\\pandas\\core\\apply.py:727\u001B[0m, in \u001B[0;36mFrameApply.apply\u001B[1;34m(self)\u001B[0m\n\u001B[0;32m    724\u001B[0m \u001B[38;5;28;01melif\u001B[39;00m \u001B[38;5;28mself\u001B[39m\u001B[38;5;241m.\u001B[39mraw:\n\u001B[0;32m    725\u001B[0m     \u001B[38;5;28;01mreturn\u001B[39;00m \u001B[38;5;28mself\u001B[39m\u001B[38;5;241m.\u001B[39mapply_raw()\n\u001B[1;32m--> 727\u001B[0m \u001B[38;5;28;01mreturn\u001B[39;00m \u001B[38;5;28;43mself\u001B[39;49m\u001B[38;5;241;43m.\u001B[39;49m\u001B[43mapply_standard\u001B[49m\u001B[43m(\u001B[49m\u001B[43m)\u001B[49m\n",
      "File \u001B[1;32mG:\\Anaconda\\envs\\TFG2\\lib\\site-packages\\pandas\\core\\apply.py:851\u001B[0m, in \u001B[0;36mFrameApply.apply_standard\u001B[1;34m(self)\u001B[0m\n\u001B[0;32m    850\u001B[0m \u001B[38;5;28;01mdef\u001B[39;00m \u001B[38;5;21mapply_standard\u001B[39m(\u001B[38;5;28mself\u001B[39m):\n\u001B[1;32m--> 851\u001B[0m     results, res_index \u001B[38;5;241m=\u001B[39m \u001B[38;5;28;43mself\u001B[39;49m\u001B[38;5;241;43m.\u001B[39;49m\u001B[43mapply_series_generator\u001B[49m\u001B[43m(\u001B[49m\u001B[43m)\u001B[49m\n\u001B[0;32m    853\u001B[0m     \u001B[38;5;66;03m# wrap results\u001B[39;00m\n\u001B[0;32m    854\u001B[0m     \u001B[38;5;28;01mreturn\u001B[39;00m \u001B[38;5;28mself\u001B[39m\u001B[38;5;241m.\u001B[39mwrap_results(results, res_index)\n",
      "File \u001B[1;32mG:\\Anaconda\\envs\\TFG2\\lib\\site-packages\\pandas\\core\\apply.py:867\u001B[0m, in \u001B[0;36mFrameApply.apply_series_generator\u001B[1;34m(self)\u001B[0m\n\u001B[0;32m    864\u001B[0m \u001B[38;5;28;01mwith\u001B[39;00m option_context(\u001B[38;5;124m\"\u001B[39m\u001B[38;5;124mmode.chained_assignment\u001B[39m\u001B[38;5;124m\"\u001B[39m, \u001B[38;5;28;01mNone\u001B[39;00m):\n\u001B[0;32m    865\u001B[0m     \u001B[38;5;28;01mfor\u001B[39;00m i, v \u001B[38;5;129;01min\u001B[39;00m \u001B[38;5;28menumerate\u001B[39m(series_gen):\n\u001B[0;32m    866\u001B[0m         \u001B[38;5;66;03m# ignore SettingWithCopy here in case the user mutates\u001B[39;00m\n\u001B[1;32m--> 867\u001B[0m         results[i] \u001B[38;5;241m=\u001B[39m \u001B[38;5;28;43mself\u001B[39;49m\u001B[38;5;241;43m.\u001B[39;49m\u001B[43mf\u001B[49m\u001B[43m(\u001B[49m\u001B[43mv\u001B[49m\u001B[43m)\u001B[49m\n\u001B[0;32m    868\u001B[0m         \u001B[38;5;28;01mif\u001B[39;00m \u001B[38;5;28misinstance\u001B[39m(results[i], ABCSeries):\n\u001B[0;32m    869\u001B[0m             \u001B[38;5;66;03m# If we have a view on v, we need to make a copy because\u001B[39;00m\n\u001B[0;32m    870\u001B[0m             \u001B[38;5;66;03m#  series_generator will swap out the underlying data\u001B[39;00m\n\u001B[0;32m    871\u001B[0m             results[i] \u001B[38;5;241m=\u001B[39m results[i]\u001B[38;5;241m.\u001B[39mcopy(deep\u001B[38;5;241m=\u001B[39m\u001B[38;5;28;01mFalse\u001B[39;00m)\n",
      "Input \u001B[1;32mIn [69]\u001B[0m, in \u001B[0;36m<lambda>\u001B[1;34m(x)\u001B[0m\n\u001B[0;32m     10\u001B[0m     \u001B[38;5;28;01mreturn\u001B[39;00m country, state\n\u001B[0;32m     12\u001B[0m \u001B[38;5;66;03m# Apply the function to the train dataframe\u001B[39;00m\n\u001B[1;32m---> 13\u001B[0m train_df[\u001B[38;5;124m'\u001B[39m\u001B[38;5;124mcountry\u001B[39m\u001B[38;5;124m'\u001B[39m], train_df[\u001B[38;5;124m'\u001B[39m\u001B[38;5;124mstate\u001B[39m\u001B[38;5;124m'\u001B[39m] \u001B[38;5;241m=\u001B[39m \u001B[38;5;28mzip\u001B[39m(\u001B[38;5;241m*\u001B[39mtrain_df\u001B[38;5;241m.\u001B[39mapply(\u001B[38;5;28;01mlambda\u001B[39;00m x: \u001B[43mget_country_state\u001B[49m\u001B[43m(\u001B[49m\u001B[43mx\u001B[49m\u001B[43m[\u001B[49m\u001B[38;5;124;43m'\u001B[39;49m\u001B[38;5;124;43mlatitude\u001B[39;49m\u001B[38;5;124;43m'\u001B[39;49m\u001B[43m]\u001B[49m\u001B[43m,\u001B[49m\u001B[43m \u001B[49m\u001B[43mx\u001B[49m\u001B[43m[\u001B[49m\u001B[38;5;124;43m'\u001B[39;49m\u001B[38;5;124;43mlongitude\u001B[39;49m\u001B[38;5;124;43m'\u001B[39;49m\u001B[43m]\u001B[49m\u001B[43m)\u001B[49m, axis\u001B[38;5;241m=\u001B[39m\u001B[38;5;241m1\u001B[39m))\n\u001B[0;32m     15\u001B[0m \u001B[38;5;28mprint\u001B[39m(train_df[\u001B[38;5;124m'\u001B[39m\u001B[38;5;124mcountry\u001B[39m\u001B[38;5;124m'\u001B[39m]\u001B[38;5;241m.\u001B[39mvalue_counts())\n\u001B[0;32m     16\u001B[0m \u001B[38;5;28mprint\u001B[39m(train_df[\u001B[38;5;124m'\u001B[39m\u001B[38;5;124mcountry\u001B[39m\u001B[38;5;124m'\u001B[39m]\u001B[38;5;241m.\u001B[39munique())\n",
      "Input \u001B[1;32mIn [69]\u001B[0m, in \u001B[0;36mget_country_state\u001B[1;34m(lat, long)\u001B[0m\n\u001B[0;32m      4\u001B[0m \u001B[38;5;28;01mdef\u001B[39;00m \u001B[38;5;21mget_country_state\u001B[39m(lat, long):\n\u001B[1;32m----> 5\u001B[0m     location \u001B[38;5;241m=\u001B[39m \u001B[43mgeolocator\u001B[49m\u001B[38;5;241;43m.\u001B[39;49m\u001B[43mreverse\u001B[49m\u001B[43m(\u001B[49m\u001B[38;5;28;43mstr\u001B[39;49m\u001B[43m(\u001B[49m\u001B[43mlat\u001B[49m\u001B[43m)\u001B[49m\u001B[43m \u001B[49m\u001B[38;5;241;43m+\u001B[39;49m\u001B[43m \u001B[49m\u001B[38;5;124;43m'\u001B[39;49m\u001B[38;5;124;43m, \u001B[39;49m\u001B[38;5;124;43m'\u001B[39;49m\u001B[43m \u001B[49m\u001B[38;5;241;43m+\u001B[39;49m\u001B[43m \u001B[49m\u001B[38;5;28;43mstr\u001B[39;49m\u001B[43m(\u001B[49m\u001B[43mlong\u001B[49m\u001B[43m)\u001B[49m\u001B[43m)\u001B[49m\n\u001B[0;32m      6\u001B[0m     address \u001B[38;5;241m=\u001B[39m location\u001B[38;5;241m.\u001B[39mraw[\u001B[38;5;124m'\u001B[39m\u001B[38;5;124maddress\u001B[39m\u001B[38;5;124m'\u001B[39m]\n\u001B[0;32m      7\u001B[0m     country \u001B[38;5;241m=\u001B[39m address\u001B[38;5;241m.\u001B[39mget(\u001B[38;5;124m'\u001B[39m\u001B[38;5;124mcountry\u001B[39m\u001B[38;5;124m'\u001B[39m, \u001B[38;5;124m'\u001B[39m\u001B[38;5;124m'\u001B[39m)\n",
      "File \u001B[1;32mG:\\Anaconda\\envs\\TFG2\\lib\\site-packages\\geopy\\geocoders\\nominatim.py:372\u001B[0m, in \u001B[0;36mNominatim.reverse\u001B[1;34m(self, query, exactly_one, timeout, language, addressdetails, zoom, namedetails)\u001B[0m\n\u001B[0;32m    370\u001B[0m logger\u001B[38;5;241m.\u001B[39mdebug(\u001B[38;5;124m\"\u001B[39m\u001B[38;5;132;01m%s\u001B[39;00m\u001B[38;5;124m.reverse: \u001B[39m\u001B[38;5;132;01m%s\u001B[39;00m\u001B[38;5;124m\"\u001B[39m, \u001B[38;5;28mself\u001B[39m\u001B[38;5;241m.\u001B[39m\u001B[38;5;18m__class__\u001B[39m\u001B[38;5;241m.\u001B[39m\u001B[38;5;18m__name__\u001B[39m, url)\n\u001B[0;32m    371\u001B[0m callback \u001B[38;5;241m=\u001B[39m partial(\u001B[38;5;28mself\u001B[39m\u001B[38;5;241m.\u001B[39m_parse_json, exactly_one\u001B[38;5;241m=\u001B[39mexactly_one)\n\u001B[1;32m--> 372\u001B[0m \u001B[38;5;28;01mreturn\u001B[39;00m \u001B[38;5;28;43mself\u001B[39;49m\u001B[38;5;241;43m.\u001B[39;49m\u001B[43m_call_geocoder\u001B[49m\u001B[43m(\u001B[49m\u001B[43murl\u001B[49m\u001B[43m,\u001B[49m\u001B[43m \u001B[49m\u001B[43mcallback\u001B[49m\u001B[43m,\u001B[49m\u001B[43m \u001B[49m\u001B[43mtimeout\u001B[49m\u001B[38;5;241;43m=\u001B[39;49m\u001B[43mtimeout\u001B[49m\u001B[43m)\u001B[49m\n",
      "File \u001B[1;32mG:\\Anaconda\\envs\\TFG2\\lib\\site-packages\\geopy\\geocoders\\base.py:368\u001B[0m, in \u001B[0;36mGeocoder._call_geocoder\u001B[1;34m(self, url, callback, timeout, is_json, headers)\u001B[0m\n\u001B[0;32m    366\u001B[0m \u001B[38;5;28;01mtry\u001B[39;00m:\n\u001B[0;32m    367\u001B[0m     \u001B[38;5;28;01mif\u001B[39;00m is_json:\n\u001B[1;32m--> 368\u001B[0m         result \u001B[38;5;241m=\u001B[39m \u001B[38;5;28;43mself\u001B[39;49m\u001B[38;5;241;43m.\u001B[39;49m\u001B[43madapter\u001B[49m\u001B[38;5;241;43m.\u001B[39;49m\u001B[43mget_json\u001B[49m\u001B[43m(\u001B[49m\u001B[43murl\u001B[49m\u001B[43m,\u001B[49m\u001B[43m \u001B[49m\u001B[43mtimeout\u001B[49m\u001B[38;5;241;43m=\u001B[39;49m\u001B[43mtimeout\u001B[49m\u001B[43m,\u001B[49m\u001B[43m \u001B[49m\u001B[43mheaders\u001B[49m\u001B[38;5;241;43m=\u001B[39;49m\u001B[43mreq_headers\u001B[49m\u001B[43m)\u001B[49m\n\u001B[0;32m    369\u001B[0m     \u001B[38;5;28;01melse\u001B[39;00m:\n\u001B[0;32m    370\u001B[0m         result \u001B[38;5;241m=\u001B[39m \u001B[38;5;28mself\u001B[39m\u001B[38;5;241m.\u001B[39madapter\u001B[38;5;241m.\u001B[39mget_text(url, timeout\u001B[38;5;241m=\u001B[39mtimeout, headers\u001B[38;5;241m=\u001B[39mreq_headers)\n",
      "File \u001B[1;32mG:\\Anaconda\\envs\\TFG2\\lib\\site-packages\\geopy\\adapters.py:447\u001B[0m, in \u001B[0;36mRequestsAdapter.get_json\u001B[1;34m(self, url, timeout, headers)\u001B[0m\n\u001B[0;32m    446\u001B[0m \u001B[38;5;28;01mdef\u001B[39;00m \u001B[38;5;21mget_json\u001B[39m(\u001B[38;5;28mself\u001B[39m, url, \u001B[38;5;241m*\u001B[39m, timeout, headers):\n\u001B[1;32m--> 447\u001B[0m     resp \u001B[38;5;241m=\u001B[39m \u001B[38;5;28;43mself\u001B[39;49m\u001B[38;5;241;43m.\u001B[39;49m\u001B[43m_request\u001B[49m\u001B[43m(\u001B[49m\u001B[43murl\u001B[49m\u001B[43m,\u001B[49m\u001B[43m \u001B[49m\u001B[43mtimeout\u001B[49m\u001B[38;5;241;43m=\u001B[39;49m\u001B[43mtimeout\u001B[49m\u001B[43m,\u001B[49m\u001B[43m \u001B[49m\u001B[43mheaders\u001B[49m\u001B[38;5;241;43m=\u001B[39;49m\u001B[43mheaders\u001B[49m\u001B[43m)\u001B[49m\n\u001B[0;32m    448\u001B[0m     \u001B[38;5;28;01mtry\u001B[39;00m:\n\u001B[0;32m    449\u001B[0m         \u001B[38;5;28;01mreturn\u001B[39;00m resp\u001B[38;5;241m.\u001B[39mjson()\n",
      "File \u001B[1;32mG:\\Anaconda\\envs\\TFG2\\lib\\site-packages\\geopy\\adapters.py:457\u001B[0m, in \u001B[0;36mRequestsAdapter._request\u001B[1;34m(self, url, timeout, headers)\u001B[0m\n\u001B[0;32m    455\u001B[0m \u001B[38;5;28;01mdef\u001B[39;00m \u001B[38;5;21m_request\u001B[39m(\u001B[38;5;28mself\u001B[39m, url, \u001B[38;5;241m*\u001B[39m, timeout, headers):\n\u001B[0;32m    456\u001B[0m     \u001B[38;5;28;01mtry\u001B[39;00m:\n\u001B[1;32m--> 457\u001B[0m         resp \u001B[38;5;241m=\u001B[39m \u001B[38;5;28;43mself\u001B[39;49m\u001B[38;5;241;43m.\u001B[39;49m\u001B[43msession\u001B[49m\u001B[38;5;241;43m.\u001B[39;49m\u001B[43mget\u001B[49m\u001B[43m(\u001B[49m\u001B[43murl\u001B[49m\u001B[43m,\u001B[49m\u001B[43m \u001B[49m\u001B[43mtimeout\u001B[49m\u001B[38;5;241;43m=\u001B[39;49m\u001B[43mtimeout\u001B[49m\u001B[43m,\u001B[49m\u001B[43m \u001B[49m\u001B[43mheaders\u001B[49m\u001B[38;5;241;43m=\u001B[39;49m\u001B[43mheaders\u001B[49m\u001B[43m)\u001B[49m\n\u001B[0;32m    458\u001B[0m     \u001B[38;5;28;01mexcept\u001B[39;00m \u001B[38;5;167;01mException\u001B[39;00m \u001B[38;5;28;01mas\u001B[39;00m error:\n\u001B[0;32m    459\u001B[0m         message \u001B[38;5;241m=\u001B[39m \u001B[38;5;28mstr\u001B[39m(error)\n",
      "File \u001B[1;32mG:\\Anaconda\\envs\\TFG2\\lib\\site-packages\\requests\\sessions.py:542\u001B[0m, in \u001B[0;36mSession.get\u001B[1;34m(self, url, **kwargs)\u001B[0m\n\u001B[0;32m    534\u001B[0m \u001B[38;5;124mr\u001B[39m\u001B[38;5;124;03m\"\"\"Sends a GET request. Returns :class:`Response` object.\u001B[39;00m\n\u001B[0;32m    535\u001B[0m \n\u001B[0;32m    536\u001B[0m \u001B[38;5;124;03m:param url: URL for the new :class:`Request` object.\u001B[39;00m\n\u001B[0;32m    537\u001B[0m \u001B[38;5;124;03m:param \\*\\*kwargs: Optional arguments that ``request`` takes.\u001B[39;00m\n\u001B[0;32m    538\u001B[0m \u001B[38;5;124;03m:rtype: requests.Response\u001B[39;00m\n\u001B[0;32m    539\u001B[0m \u001B[38;5;124;03m\"\"\"\u001B[39;00m\n\u001B[0;32m    541\u001B[0m kwargs\u001B[38;5;241m.\u001B[39msetdefault(\u001B[38;5;124m'\u001B[39m\u001B[38;5;124mallow_redirects\u001B[39m\u001B[38;5;124m'\u001B[39m, \u001B[38;5;28;01mTrue\u001B[39;00m)\n\u001B[1;32m--> 542\u001B[0m \u001B[38;5;28;01mreturn\u001B[39;00m \u001B[38;5;28;43mself\u001B[39;49m\u001B[38;5;241;43m.\u001B[39;49m\u001B[43mrequest\u001B[49m\u001B[43m(\u001B[49m\u001B[38;5;124;43m'\u001B[39;49m\u001B[38;5;124;43mGET\u001B[39;49m\u001B[38;5;124;43m'\u001B[39;49m\u001B[43m,\u001B[49m\u001B[43m \u001B[49m\u001B[43murl\u001B[49m\u001B[43m,\u001B[49m\u001B[43m \u001B[49m\u001B[38;5;241;43m*\u001B[39;49m\u001B[38;5;241;43m*\u001B[39;49m\u001B[43mkwargs\u001B[49m\u001B[43m)\u001B[49m\n",
      "File \u001B[1;32mG:\\Anaconda\\envs\\TFG2\\lib\\site-packages\\requests\\sessions.py:529\u001B[0m, in \u001B[0;36mSession.request\u001B[1;34m(self, method, url, params, data, headers, cookies, files, auth, timeout, allow_redirects, proxies, hooks, stream, verify, cert, json)\u001B[0m\n\u001B[0;32m    524\u001B[0m send_kwargs \u001B[38;5;241m=\u001B[39m {\n\u001B[0;32m    525\u001B[0m     \u001B[38;5;124m'\u001B[39m\u001B[38;5;124mtimeout\u001B[39m\u001B[38;5;124m'\u001B[39m: timeout,\n\u001B[0;32m    526\u001B[0m     \u001B[38;5;124m'\u001B[39m\u001B[38;5;124mallow_redirects\u001B[39m\u001B[38;5;124m'\u001B[39m: allow_redirects,\n\u001B[0;32m    527\u001B[0m }\n\u001B[0;32m    528\u001B[0m send_kwargs\u001B[38;5;241m.\u001B[39mupdate(settings)\n\u001B[1;32m--> 529\u001B[0m resp \u001B[38;5;241m=\u001B[39m \u001B[38;5;28;43mself\u001B[39;49m\u001B[38;5;241;43m.\u001B[39;49m\u001B[43msend\u001B[49m\u001B[43m(\u001B[49m\u001B[43mprep\u001B[49m\u001B[43m,\u001B[49m\u001B[43m \u001B[49m\u001B[38;5;241;43m*\u001B[39;49m\u001B[38;5;241;43m*\u001B[39;49m\u001B[43msend_kwargs\u001B[49m\u001B[43m)\u001B[49m\n\u001B[0;32m    531\u001B[0m \u001B[38;5;28;01mreturn\u001B[39;00m resp\n",
      "File \u001B[1;32mG:\\Anaconda\\envs\\TFG2\\lib\\site-packages\\requests\\sessions.py:645\u001B[0m, in \u001B[0;36mSession.send\u001B[1;34m(self, request, **kwargs)\u001B[0m\n\u001B[0;32m    642\u001B[0m start \u001B[38;5;241m=\u001B[39m preferred_clock()\n\u001B[0;32m    644\u001B[0m \u001B[38;5;66;03m# Send the request\u001B[39;00m\n\u001B[1;32m--> 645\u001B[0m r \u001B[38;5;241m=\u001B[39m \u001B[43madapter\u001B[49m\u001B[38;5;241;43m.\u001B[39;49m\u001B[43msend\u001B[49m\u001B[43m(\u001B[49m\u001B[43mrequest\u001B[49m\u001B[43m,\u001B[49m\u001B[43m \u001B[49m\u001B[38;5;241;43m*\u001B[39;49m\u001B[38;5;241;43m*\u001B[39;49m\u001B[43mkwargs\u001B[49m\u001B[43m)\u001B[49m\n\u001B[0;32m    647\u001B[0m \u001B[38;5;66;03m# Total elapsed time of the request (approximately)\u001B[39;00m\n\u001B[0;32m    648\u001B[0m elapsed \u001B[38;5;241m=\u001B[39m preferred_clock() \u001B[38;5;241m-\u001B[39m start\n",
      "File \u001B[1;32mG:\\Anaconda\\envs\\TFG2\\lib\\site-packages\\requests\\adapters.py:440\u001B[0m, in \u001B[0;36mHTTPAdapter.send\u001B[1;34m(self, request, stream, timeout, verify, cert, proxies)\u001B[0m\n\u001B[0;32m    438\u001B[0m \u001B[38;5;28;01mtry\u001B[39;00m:\n\u001B[0;32m    439\u001B[0m     \u001B[38;5;28;01mif\u001B[39;00m \u001B[38;5;129;01mnot\u001B[39;00m chunked:\n\u001B[1;32m--> 440\u001B[0m         resp \u001B[38;5;241m=\u001B[39m \u001B[43mconn\u001B[49m\u001B[38;5;241;43m.\u001B[39;49m\u001B[43murlopen\u001B[49m\u001B[43m(\u001B[49m\n\u001B[0;32m    441\u001B[0m \u001B[43m            \u001B[49m\u001B[43mmethod\u001B[49m\u001B[38;5;241;43m=\u001B[39;49m\u001B[43mrequest\u001B[49m\u001B[38;5;241;43m.\u001B[39;49m\u001B[43mmethod\u001B[49m\u001B[43m,\u001B[49m\n\u001B[0;32m    442\u001B[0m \u001B[43m            \u001B[49m\u001B[43murl\u001B[49m\u001B[38;5;241;43m=\u001B[39;49m\u001B[43murl\u001B[49m\u001B[43m,\u001B[49m\n\u001B[0;32m    443\u001B[0m \u001B[43m            \u001B[49m\u001B[43mbody\u001B[49m\u001B[38;5;241;43m=\u001B[39;49m\u001B[43mrequest\u001B[49m\u001B[38;5;241;43m.\u001B[39;49m\u001B[43mbody\u001B[49m\u001B[43m,\u001B[49m\n\u001B[0;32m    444\u001B[0m \u001B[43m            \u001B[49m\u001B[43mheaders\u001B[49m\u001B[38;5;241;43m=\u001B[39;49m\u001B[43mrequest\u001B[49m\u001B[38;5;241;43m.\u001B[39;49m\u001B[43mheaders\u001B[49m\u001B[43m,\u001B[49m\n\u001B[0;32m    445\u001B[0m \u001B[43m            \u001B[49m\u001B[43mredirect\u001B[49m\u001B[38;5;241;43m=\u001B[39;49m\u001B[38;5;28;43;01mFalse\u001B[39;49;00m\u001B[43m,\u001B[49m\n\u001B[0;32m    446\u001B[0m \u001B[43m            \u001B[49m\u001B[43massert_same_host\u001B[49m\u001B[38;5;241;43m=\u001B[39;49m\u001B[38;5;28;43;01mFalse\u001B[39;49;00m\u001B[43m,\u001B[49m\n\u001B[0;32m    447\u001B[0m \u001B[43m            \u001B[49m\u001B[43mpreload_content\u001B[49m\u001B[38;5;241;43m=\u001B[39;49m\u001B[38;5;28;43;01mFalse\u001B[39;49;00m\u001B[43m,\u001B[49m\n\u001B[0;32m    448\u001B[0m \u001B[43m            \u001B[49m\u001B[43mdecode_content\u001B[49m\u001B[38;5;241;43m=\u001B[39;49m\u001B[38;5;28;43;01mFalse\u001B[39;49;00m\u001B[43m,\u001B[49m\n\u001B[0;32m    449\u001B[0m \u001B[43m            \u001B[49m\u001B[43mretries\u001B[49m\u001B[38;5;241;43m=\u001B[39;49m\u001B[38;5;28;43mself\u001B[39;49m\u001B[38;5;241;43m.\u001B[39;49m\u001B[43mmax_retries\u001B[49m\u001B[43m,\u001B[49m\n\u001B[0;32m    450\u001B[0m \u001B[43m            \u001B[49m\u001B[43mtimeout\u001B[49m\u001B[38;5;241;43m=\u001B[39;49m\u001B[43mtimeout\u001B[49m\n\u001B[0;32m    451\u001B[0m \u001B[43m        \u001B[49m\u001B[43m)\u001B[49m\n\u001B[0;32m    453\u001B[0m     \u001B[38;5;66;03m# Send the request.\u001B[39;00m\n\u001B[0;32m    454\u001B[0m     \u001B[38;5;28;01melse\u001B[39;00m:\n\u001B[0;32m    455\u001B[0m         \u001B[38;5;28;01mif\u001B[39;00m \u001B[38;5;28mhasattr\u001B[39m(conn, \u001B[38;5;124m'\u001B[39m\u001B[38;5;124mproxy_pool\u001B[39m\u001B[38;5;124m'\u001B[39m):\n",
      "File \u001B[1;32mG:\\Anaconda\\envs\\TFG2\\lib\\site-packages\\urllib3\\connectionpool.py:703\u001B[0m, in \u001B[0;36mHTTPConnectionPool.urlopen\u001B[1;34m(self, method, url, body, headers, retries, redirect, assert_same_host, timeout, pool_timeout, release_conn, chunked, body_pos, **response_kw)\u001B[0m\n\u001B[0;32m    700\u001B[0m     \u001B[38;5;28mself\u001B[39m\u001B[38;5;241m.\u001B[39m_prepare_proxy(conn)\n\u001B[0;32m    702\u001B[0m \u001B[38;5;66;03m# Make the request on the httplib connection object.\u001B[39;00m\n\u001B[1;32m--> 703\u001B[0m httplib_response \u001B[38;5;241m=\u001B[39m \u001B[38;5;28;43mself\u001B[39;49m\u001B[38;5;241;43m.\u001B[39;49m\u001B[43m_make_request\u001B[49m\u001B[43m(\u001B[49m\n\u001B[0;32m    704\u001B[0m \u001B[43m    \u001B[49m\u001B[43mconn\u001B[49m\u001B[43m,\u001B[49m\n\u001B[0;32m    705\u001B[0m \u001B[43m    \u001B[49m\u001B[43mmethod\u001B[49m\u001B[43m,\u001B[49m\n\u001B[0;32m    706\u001B[0m \u001B[43m    \u001B[49m\u001B[43murl\u001B[49m\u001B[43m,\u001B[49m\n\u001B[0;32m    707\u001B[0m \u001B[43m    \u001B[49m\u001B[43mtimeout\u001B[49m\u001B[38;5;241;43m=\u001B[39;49m\u001B[43mtimeout_obj\u001B[49m\u001B[43m,\u001B[49m\n\u001B[0;32m    708\u001B[0m \u001B[43m    \u001B[49m\u001B[43mbody\u001B[49m\u001B[38;5;241;43m=\u001B[39;49m\u001B[43mbody\u001B[49m\u001B[43m,\u001B[49m\n\u001B[0;32m    709\u001B[0m \u001B[43m    \u001B[49m\u001B[43mheaders\u001B[49m\u001B[38;5;241;43m=\u001B[39;49m\u001B[43mheaders\u001B[49m\u001B[43m,\u001B[49m\n\u001B[0;32m    710\u001B[0m \u001B[43m    \u001B[49m\u001B[43mchunked\u001B[49m\u001B[38;5;241;43m=\u001B[39;49m\u001B[43mchunked\u001B[49m\u001B[43m,\u001B[49m\n\u001B[0;32m    711\u001B[0m \u001B[43m\u001B[49m\u001B[43m)\u001B[49m\n\u001B[0;32m    713\u001B[0m \u001B[38;5;66;03m# If we're going to release the connection in ``finally:``, then\u001B[39;00m\n\u001B[0;32m    714\u001B[0m \u001B[38;5;66;03m# the response doesn't need to know about the connection. Otherwise\u001B[39;00m\n\u001B[0;32m    715\u001B[0m \u001B[38;5;66;03m# it will also try to release it and we'll have a double-release\u001B[39;00m\n\u001B[0;32m    716\u001B[0m \u001B[38;5;66;03m# mess.\u001B[39;00m\n\u001B[0;32m    717\u001B[0m response_conn \u001B[38;5;241m=\u001B[39m conn \u001B[38;5;28;01mif\u001B[39;00m \u001B[38;5;129;01mnot\u001B[39;00m release_conn \u001B[38;5;28;01melse\u001B[39;00m \u001B[38;5;28;01mNone\u001B[39;00m\n",
      "File \u001B[1;32mG:\\Anaconda\\envs\\TFG2\\lib\\site-packages\\urllib3\\connectionpool.py:449\u001B[0m, in \u001B[0;36mHTTPConnectionPool._make_request\u001B[1;34m(self, conn, method, url, timeout, chunked, **httplib_request_kw)\u001B[0m\n\u001B[0;32m    444\u001B[0m             httplib_response \u001B[38;5;241m=\u001B[39m conn\u001B[38;5;241m.\u001B[39mgetresponse()\n\u001B[0;32m    445\u001B[0m         \u001B[38;5;28;01mexcept\u001B[39;00m \u001B[38;5;167;01mBaseException\u001B[39;00m \u001B[38;5;28;01mas\u001B[39;00m e:\n\u001B[0;32m    446\u001B[0m             \u001B[38;5;66;03m# Remove the TypeError from the exception chain in\u001B[39;00m\n\u001B[0;32m    447\u001B[0m             \u001B[38;5;66;03m# Python 3 (including for exceptions like SystemExit).\u001B[39;00m\n\u001B[0;32m    448\u001B[0m             \u001B[38;5;66;03m# Otherwise it looks like a bug in the code.\u001B[39;00m\n\u001B[1;32m--> 449\u001B[0m             \u001B[43msix\u001B[49m\u001B[38;5;241;43m.\u001B[39;49m\u001B[43mraise_from\u001B[49m\u001B[43m(\u001B[49m\u001B[43me\u001B[49m\u001B[43m,\u001B[49m\u001B[43m \u001B[49m\u001B[38;5;28;43;01mNone\u001B[39;49;00m\u001B[43m)\u001B[49m\n\u001B[0;32m    450\u001B[0m \u001B[38;5;28;01mexcept\u001B[39;00m (SocketTimeout, BaseSSLError, SocketError) \u001B[38;5;28;01mas\u001B[39;00m e:\n\u001B[0;32m    451\u001B[0m     \u001B[38;5;28mself\u001B[39m\u001B[38;5;241m.\u001B[39m_raise_timeout(err\u001B[38;5;241m=\u001B[39me, url\u001B[38;5;241m=\u001B[39murl, timeout_value\u001B[38;5;241m=\u001B[39mread_timeout)\n",
      "File \u001B[1;32m<string>:3\u001B[0m, in \u001B[0;36mraise_from\u001B[1;34m(value, from_value)\u001B[0m\n",
      "File \u001B[1;32mG:\\Anaconda\\envs\\TFG2\\lib\\site-packages\\urllib3\\connectionpool.py:444\u001B[0m, in \u001B[0;36mHTTPConnectionPool._make_request\u001B[1;34m(self, conn, method, url, timeout, chunked, **httplib_request_kw)\u001B[0m\n\u001B[0;32m    441\u001B[0m \u001B[38;5;28;01mexcept\u001B[39;00m \u001B[38;5;167;01mTypeError\u001B[39;00m:\n\u001B[0;32m    442\u001B[0m     \u001B[38;5;66;03m# Python 3\u001B[39;00m\n\u001B[0;32m    443\u001B[0m     \u001B[38;5;28;01mtry\u001B[39;00m:\n\u001B[1;32m--> 444\u001B[0m         httplib_response \u001B[38;5;241m=\u001B[39m \u001B[43mconn\u001B[49m\u001B[38;5;241;43m.\u001B[39;49m\u001B[43mgetresponse\u001B[49m\u001B[43m(\u001B[49m\u001B[43m)\u001B[49m\n\u001B[0;32m    445\u001B[0m     \u001B[38;5;28;01mexcept\u001B[39;00m \u001B[38;5;167;01mBaseException\u001B[39;00m \u001B[38;5;28;01mas\u001B[39;00m e:\n\u001B[0;32m    446\u001B[0m         \u001B[38;5;66;03m# Remove the TypeError from the exception chain in\u001B[39;00m\n\u001B[0;32m    447\u001B[0m         \u001B[38;5;66;03m# Python 3 (including for exceptions like SystemExit).\u001B[39;00m\n\u001B[0;32m    448\u001B[0m         \u001B[38;5;66;03m# Otherwise it looks like a bug in the code.\u001B[39;00m\n\u001B[0;32m    449\u001B[0m         six\u001B[38;5;241m.\u001B[39mraise_from(e, \u001B[38;5;28;01mNone\u001B[39;00m)\n",
      "File \u001B[1;32mG:\\Anaconda\\envs\\TFG2\\lib\\http\\client.py:1322\u001B[0m, in \u001B[0;36mHTTPConnection.getresponse\u001B[1;34m(self)\u001B[0m\n\u001B[0;32m   1320\u001B[0m \u001B[38;5;28;01mtry\u001B[39;00m:\n\u001B[0;32m   1321\u001B[0m     \u001B[38;5;28;01mtry\u001B[39;00m:\n\u001B[1;32m-> 1322\u001B[0m         \u001B[43mresponse\u001B[49m\u001B[38;5;241;43m.\u001B[39;49m\u001B[43mbegin\u001B[49m\u001B[43m(\u001B[49m\u001B[43m)\u001B[49m\n\u001B[0;32m   1323\u001B[0m     \u001B[38;5;28;01mexcept\u001B[39;00m \u001B[38;5;167;01mConnectionError\u001B[39;00m:\n\u001B[0;32m   1324\u001B[0m         \u001B[38;5;28mself\u001B[39m\u001B[38;5;241m.\u001B[39mclose()\n",
      "File \u001B[1;32mG:\\Anaconda\\envs\\TFG2\\lib\\http\\client.py:303\u001B[0m, in \u001B[0;36mHTTPResponse.begin\u001B[1;34m(self)\u001B[0m\n\u001B[0;32m    301\u001B[0m \u001B[38;5;66;03m# read until we get a non-100 response\u001B[39;00m\n\u001B[0;32m    302\u001B[0m \u001B[38;5;28;01mwhile\u001B[39;00m \u001B[38;5;28;01mTrue\u001B[39;00m:\n\u001B[1;32m--> 303\u001B[0m     version, status, reason \u001B[38;5;241m=\u001B[39m \u001B[38;5;28;43mself\u001B[39;49m\u001B[38;5;241;43m.\u001B[39;49m\u001B[43m_read_status\u001B[49m\u001B[43m(\u001B[49m\u001B[43m)\u001B[49m\n\u001B[0;32m    304\u001B[0m     \u001B[38;5;28;01mif\u001B[39;00m status \u001B[38;5;241m!=\u001B[39m CONTINUE:\n\u001B[0;32m    305\u001B[0m         \u001B[38;5;28;01mbreak\u001B[39;00m\n",
      "File \u001B[1;32mG:\\Anaconda\\envs\\TFG2\\lib\\http\\client.py:264\u001B[0m, in \u001B[0;36mHTTPResponse._read_status\u001B[1;34m(self)\u001B[0m\n\u001B[0;32m    263\u001B[0m \u001B[38;5;28;01mdef\u001B[39;00m \u001B[38;5;21m_read_status\u001B[39m(\u001B[38;5;28mself\u001B[39m):\n\u001B[1;32m--> 264\u001B[0m     line \u001B[38;5;241m=\u001B[39m \u001B[38;5;28mstr\u001B[39m(\u001B[38;5;28;43mself\u001B[39;49m\u001B[38;5;241;43m.\u001B[39;49m\u001B[43mfp\u001B[49m\u001B[38;5;241;43m.\u001B[39;49m\u001B[43mreadline\u001B[49m\u001B[43m(\u001B[49m\u001B[43m_MAXLINE\u001B[49m\u001B[43m \u001B[49m\u001B[38;5;241;43m+\u001B[39;49m\u001B[43m \u001B[49m\u001B[38;5;241;43m1\u001B[39;49m\u001B[43m)\u001B[49m, \u001B[38;5;124m\"\u001B[39m\u001B[38;5;124miso-8859-1\u001B[39m\u001B[38;5;124m\"\u001B[39m)\n\u001B[0;32m    265\u001B[0m     \u001B[38;5;28;01mif\u001B[39;00m \u001B[38;5;28mlen\u001B[39m(line) \u001B[38;5;241m>\u001B[39m _MAXLINE:\n\u001B[0;32m    266\u001B[0m         \u001B[38;5;28;01mraise\u001B[39;00m LineTooLong(\u001B[38;5;124m\"\u001B[39m\u001B[38;5;124mstatus line\u001B[39m\u001B[38;5;124m\"\u001B[39m)\n",
      "File \u001B[1;32mG:\\Anaconda\\envs\\TFG2\\lib\\socket.py:669\u001B[0m, in \u001B[0;36mSocketIO.readinto\u001B[1;34m(self, b)\u001B[0m\n\u001B[0;32m    667\u001B[0m \u001B[38;5;28;01mwhile\u001B[39;00m \u001B[38;5;28;01mTrue\u001B[39;00m:\n\u001B[0;32m    668\u001B[0m     \u001B[38;5;28;01mtry\u001B[39;00m:\n\u001B[1;32m--> 669\u001B[0m         \u001B[38;5;28;01mreturn\u001B[39;00m \u001B[38;5;28;43mself\u001B[39;49m\u001B[38;5;241;43m.\u001B[39;49m\u001B[43m_sock\u001B[49m\u001B[38;5;241;43m.\u001B[39;49m\u001B[43mrecv_into\u001B[49m\u001B[43m(\u001B[49m\u001B[43mb\u001B[49m\u001B[43m)\u001B[49m\n\u001B[0;32m    670\u001B[0m     \u001B[38;5;28;01mexcept\u001B[39;00m timeout:\n\u001B[0;32m    671\u001B[0m         \u001B[38;5;28mself\u001B[39m\u001B[38;5;241m.\u001B[39m_timeout_occurred \u001B[38;5;241m=\u001B[39m \u001B[38;5;28;01mTrue\u001B[39;00m\n",
      "File \u001B[1;32mG:\\Anaconda\\envs\\TFG2\\lib\\ssl.py:1241\u001B[0m, in \u001B[0;36mSSLSocket.recv_into\u001B[1;34m(self, buffer, nbytes, flags)\u001B[0m\n\u001B[0;32m   1237\u001B[0m     \u001B[38;5;28;01mif\u001B[39;00m flags \u001B[38;5;241m!=\u001B[39m \u001B[38;5;241m0\u001B[39m:\n\u001B[0;32m   1238\u001B[0m         \u001B[38;5;28;01mraise\u001B[39;00m \u001B[38;5;167;01mValueError\u001B[39;00m(\n\u001B[0;32m   1239\u001B[0m           \u001B[38;5;124m\"\u001B[39m\u001B[38;5;124mnon-zero flags not allowed in calls to recv_into() on \u001B[39m\u001B[38;5;132;01m%s\u001B[39;00m\u001B[38;5;124m\"\u001B[39m \u001B[38;5;241m%\u001B[39m\n\u001B[0;32m   1240\u001B[0m           \u001B[38;5;28mself\u001B[39m\u001B[38;5;241m.\u001B[39m\u001B[38;5;18m__class__\u001B[39m)\n\u001B[1;32m-> 1241\u001B[0m     \u001B[38;5;28;01mreturn\u001B[39;00m \u001B[38;5;28;43mself\u001B[39;49m\u001B[38;5;241;43m.\u001B[39;49m\u001B[43mread\u001B[49m\u001B[43m(\u001B[49m\u001B[43mnbytes\u001B[49m\u001B[43m,\u001B[49m\u001B[43m \u001B[49m\u001B[43mbuffer\u001B[49m\u001B[43m)\u001B[49m\n\u001B[0;32m   1242\u001B[0m \u001B[38;5;28;01melse\u001B[39;00m:\n\u001B[0;32m   1243\u001B[0m     \u001B[38;5;28;01mreturn\u001B[39;00m \u001B[38;5;28msuper\u001B[39m()\u001B[38;5;241m.\u001B[39mrecv_into(buffer, nbytes, flags)\n",
      "File \u001B[1;32mG:\\Anaconda\\envs\\TFG2\\lib\\ssl.py:1099\u001B[0m, in \u001B[0;36mSSLSocket.read\u001B[1;34m(self, len, buffer)\u001B[0m\n\u001B[0;32m   1097\u001B[0m \u001B[38;5;28;01mtry\u001B[39;00m:\n\u001B[0;32m   1098\u001B[0m     \u001B[38;5;28;01mif\u001B[39;00m buffer \u001B[38;5;129;01mis\u001B[39;00m \u001B[38;5;129;01mnot\u001B[39;00m \u001B[38;5;28;01mNone\u001B[39;00m:\n\u001B[1;32m-> 1099\u001B[0m         \u001B[38;5;28;01mreturn\u001B[39;00m \u001B[38;5;28;43mself\u001B[39;49m\u001B[38;5;241;43m.\u001B[39;49m\u001B[43m_sslobj\u001B[49m\u001B[38;5;241;43m.\u001B[39;49m\u001B[43mread\u001B[49m\u001B[43m(\u001B[49m\u001B[38;5;28;43mlen\u001B[39;49m\u001B[43m,\u001B[49m\u001B[43m \u001B[49m\u001B[43mbuffer\u001B[49m\u001B[43m)\u001B[49m\n\u001B[0;32m   1100\u001B[0m     \u001B[38;5;28;01melse\u001B[39;00m:\n\u001B[0;32m   1101\u001B[0m         \u001B[38;5;28;01mreturn\u001B[39;00m \u001B[38;5;28mself\u001B[39m\u001B[38;5;241m.\u001B[39m_sslobj\u001B[38;5;241m.\u001B[39mread(\u001B[38;5;28mlen\u001B[39m)\n",
      "\u001B[1;31mKeyboardInterrupt\u001B[0m: "
     ]
    }
   ],
   "source": [
    "geolocator = Nominatim(user_agent=\"NSVM_nuwe\")\n",
    "\n",
    "# Function to get the country name from the latitude and longitude values from the dataset train\n",
    "def get_country_state(lat, long):\n",
    "    location = geolocator.reverse(str(lat) + ', ' + str(long))\n",
    "    address = location.raw['address']\n",
    "    country = address.get('country', '')\n",
    "    state = address.get('state', '')\n",
    "    print(country, state)\n",
    "    return country, state\n",
    "\n",
    "# Apply the function to the train dataframe\n",
    "train_df['country'], train_df['state'] = zip(*train_df.apply(lambda x: get_country_state(x['latitude'], x['longitude']), axis=1))\n",
    "\n",
    "print(train_df['country'].value_counts())\n",
    "print(train_df['country'].unique())\n"
   ]
  },
  {
   "cell_type": "code",
   "execution_count": 87,
   "metadata": {},
   "outputs": [
    {
     "name": "stdout",
     "output_type": "stream",
     "text": [
      "32\n",
      "['Kalimantan Tengah' 'Kepulauan Bangka Belitung' 'Riau' 'Sumatera Selatan'\n",
      " 'Jambi' 'Kalimantan Barat' 'Sumatera Utara' 'Sulawesi Selatan'\n",
      " 'Sumatera Barat' 'Sulawesi Tenggara' 'Aceh' 'Sulawesi Tengah'\n",
      " 'Kalimantan Timur' 'Sulawesi Utara' 'Papua Selatan' 'Gorontalo'\n",
      " 'Maluku Utara' 'Papua Tengah' 'Papua Barat Daya' 'Maluku' 'Papua'\n",
      " 'Bengkulu' 'Kalimantan Utara' 'Papua Barat' 'Kalimantan Selatan'\n",
      " 'Sulawesi Barat' 'Jawa Timur' 'Lampung' 'Banten' 'Jawa Barat'\n",
      " 'Papua Pegunungan' 'Kepulauan Riau']\n"
     ]
    }
   ],
   "source": [
    "print(len(train_df['state'].unique()))\n",
    "print(train_df['state'].unique())"
   ]
  },
  {
   "cell_type": "markdown",
   "metadata": {},
   "source": [
    "Here we can see an example of one image of the dataset"
   ]
  },
  {
   "cell_type": "code",
   "execution_count": 170,
   "metadata": {},
   "outputs": [],
   "source": [
    "aux = train_df['state'].unique()\n",
    "for i in aux:\n",
    "    train_df['state_'+aux] = 0\n",
    "    test_df['state_'+aux] = 0\n"
   ]
  },
  {
   "cell_type": "code",
   "execution_count": 171,
   "metadata": {},
   "outputs": [],
   "source": [
    "for i in range(len(train_df)):\n",
    "    for j in aux:\n",
    "        if(train_df.iloc[i].state == j):\n",
    "            train_df.iloc[i, aux.tolist().index(train_df.iloc[i].state)+6] = 1"
   ]
  },
  {
   "cell_type": "code",
   "execution_count": 172,
   "metadata": {},
   "outputs": [],
   "source": [
    "for i in range(len(test_df)):\n",
    "    for j in aux:\n",
    "        if(test_df.iloc[i].state == j):\n",
    "            test_df.iloc[i, aux.tolist().index(test_df.iloc[i].state)+5] = 1"
   ]
  },
  {
   "cell_type": "code",
   "execution_count": 174,
   "metadata": {},
   "outputs": [
    {
     "data": {
      "image/png": "[encoded data removed]",
      "text/plain": [
       "<Figure size 432x288 with 1 Axes>"
      ]
     },
     "metadata": {
      "needs_background": "light"
     },
     "output_type": "display_data"
    }
   ],
   "source": [
    "img = cv2.imread(train_df.example_path[0])\n",
    "img_plot = plt.imshow(img)"
   ]
  },
  {
   "cell_type": "markdown",
   "metadata": {},
   "source": [
    "We can appreciate the shape of the images that we will resize in order to have a better resutls and to fit them into the pre-trainned models"
   ]
  },
  {
   "cell_type": "code",
   "execution_count": 175,
   "metadata": {},
   "outputs": [
    {
     "data": {
      "text/plain": [
       "(332, 332, 3)"
      ]
     },
     "execution_count": 175,
     "metadata": {},
     "output_type": "execute_result"
    }
   ],
   "source": [
    "img.shape"
   ]
  },
  {
   "cell_type": "markdown",
   "metadata": {},
   "source": [
    "As we will use a complex model that will use both images and text data, we have designed a Data generator to feed the neural network with the data. The Data generator reads the images, normalizes the images, resizes the images and obtains the text data, sending it to the machine learning model. "
   ]
  },
  {
   "cell_type": "code",
   "execution_count": 194,
   "metadata": {},
   "outputs": [],
   "source": [
    "class Data_generator():\n",
    "    \"\"\"\n",
    "    Data generator\n",
    "    \"\"\"\n",
    "    def __init__(self, train_df, train_size, width, height, channels):\n",
    "        self.train_df = train_df\n",
    "        self.train_size = train_size\n",
    "        self.width = width\n",
    "        self.height = height\n",
    "        self.channels = channels\n",
    "\n",
    "    def generate_split_indexes(self):\n",
    "        '''\n",
    "        '''\n",
    "        np.random.seed(1)\n",
    "        permutation = np.random.permutation(len(self.train_df))\n",
    "        index = int(len(self.train_df) * self.train_size)\n",
    "        train_index = permutation[:index]\n",
    "        test_index = permutation[index:]\n",
    "\n",
    "        return train_index, test_index\n",
    "\n",
    "    def read_image(self, filepath):\n",
    "\n",
    "        img = cv2.imread(filepath)\n",
    "        return img\n",
    "\n",
    "    def normalize(self, img):\n",
    "        \"\"\"Normalize the volume\"\"\"\n",
    "        norm = cv2.normalize(img, None, alpha=0, beta=1, norm_type=cv2.NORM_MINMAX, dtype=cv2.CV_32F)\n",
    "        norm = norm.astype(\"float64\")\n",
    "        return img\n",
    "\n",
    "    def resize_image(self, img):\n",
    "        # Get current depth\n",
    "        resized_image = cv2.resize(img, (self.width, self.height))\n",
    "        return resized_image\n",
    "\n",
    "    def preprocess_image(self, path):\n",
    "        \"\"\"\n",
    "        Used to perform some minor preprocessing on the image before inputting into the network.\n",
    "        \"\"\"\n",
    "        # Read scan\n",
    "        img = self.read_image(path)\n",
    "        # Normalize\n",
    "        img = self.normalize(img)\n",
    "        img = self.resize_image(img)\n",
    "\n",
    "        return img\n",
    "\n",
    "    def generate_data(self, indexes, is_training, batch_size=32):\n",
    "        \"\"\"\n",
    "        Used to generate a batch with images when training/testing/validating our Keras model.\n",
    "        \"\"\"\n",
    "        # arrays to store our batched data\n",
    "        images, text, labels = [], [], []\n",
    "        if(is_training):\n",
    "            while True:\n",
    "                for index in indexes:\n",
    "                    row = self.train_df.iloc[index]\n",
    "\n",
    "                    img_path = row['example_path']\n",
    "                    images.append(self.preprocess_image(img_path))\n",
    "\n",
    "                    labels.append(to_categorical(row['label'], 3))\n",
    "                    text.append(row[['year', 'state_Aceh', 'state_Banten', 'state_Bengkulu', 'state_Gorontalo',\n",
    "           'state_Jambi', 'state_Jawa Barat', 'state_Jawa Timur',\n",
    "           'state_Kalimantan Barat', 'state_Kalimantan Selatan',\n",
    "           'state_Kalimantan Tengah', 'state_Kalimantan Timur',\n",
    "           'state_Kalimantan Utara', 'state_Kepulauan Bangka Belitung',\n",
    "           'state_Kepulauan Riau', 'state_Lampung', 'state_Maluku',\n",
    "           'state_Maluku Utara', 'state_Papua', 'state_Papua Barat',\n",
    "           'state_Papua Barat Daya', 'state_Papua Pegunungan',\n",
    "           'state_Papua Selatan', 'state_Papua Tengah', 'state_Riau',\n",
    "           'state_Sulawesi Barat', 'state_Sulawesi Selatan',\n",
    "           'state_Sulawesi Tengah', 'state_Sulawesi Tenggara',\n",
    "           'state_Sulawesi Utara', 'state_Sumatera Barat',\n",
    "           'state_Sumatera Selatan', 'state_Sumatera Utara']])\n",
    "\n",
    "                    if len(images) >= batch_size:\n",
    "                        yield [[np.float64(images), np.float64(text)]], np.float64(labels)\n",
    "                        images, text, labels = [], [], []\n",
    "\n",
    "        else:\n",
    "               \n",
    "            for index in indexes:\n",
    "                row = self.train_df.iloc[index]\n",
    "\n",
    "                img_path = row['example_path']\n",
    "                images.append(self.preprocess_image(img_path))\n",
    "\n",
    "                text.append(row[['year', 'state_Aceh', 'state_Banten', 'state_Bengkulu', 'state_Gorontalo',\n",
    "       'state_Jambi', 'state_Jawa Barat', 'state_Jawa Timur',\n",
    "       'state_Kalimantan Barat', 'state_Kalimantan Selatan',\n",
    "       'state_Kalimantan Tengah', 'state_Kalimantan Timur',\n",
    "       'state_Kalimantan Utara', 'state_Kepulauan Bangka Belitung',\n",
    "       'state_Kepulauan Riau', 'state_Lampung', 'state_Maluku',\n",
    "       'state_Maluku Utara', 'state_Papua', 'state_Papua Barat',\n",
    "       'state_Papua Barat Daya', 'state_Papua Pegunungan',\n",
    "       'state_Papua Selatan', 'state_Papua Tengah', 'state_Riau',\n",
    "       'state_Sulawesi Barat', 'state_Sulawesi Selatan',\n",
    "       'state_Sulawesi Tengah', 'state_Sulawesi Tenggara',\n",
    "       'state_Sulawesi Utara', 'state_Sumatera Barat',\n",
    "       'state_Sumatera Selatan', 'state_Sumatera Utara']])\n",
    "\n",
    "                if len(images) >= batch_size:\n",
    "                    yield [[np.float64(images), np.float64(text)]]\n",
    "                    images, text, labels = [], [], []               \n",
    "\n",
    "                  \n",
    "        "
   ]
  },
  {
   "cell_type": "code",
   "execution_count": 218,
   "metadata": {},
   "outputs": [],
   "source": [
    "train_size = 0.80\n",
    "image_width = 224\n",
    "image_height = 224\n",
    "image_depth = 3\n",
    "\n",
    "data_generator = Data_generator(train_df, train_size, image_width, image_height, image_depth)\n",
    "train_index, valid_index = data_generator.generate_split_indexes()"
   ]
  },
  {
   "cell_type": "markdown",
   "metadata": {},
   "source": [
    "## Machine learning\n",
    "From here we can find the code used to define the deep learning model and the code used for doing the trainning and predicionts."
   ]
  },
  {
   "cell_type": "code",
   "execution_count": 61,
   "metadata": {},
   "outputs": [],
   "source": [
    "def completar_modelo(modelo, input_text):\n",
    "    rama_clasificacion = layers.Concatenate()([modelo, input_text])\n",
    "\n",
    "    rama_clasificacion = layers.Dense(64, activation=\"relu\")(rama_clasificacion)\n",
    "    rama_clasificacion = layers.BatchNormalization()(rama_clasificacion)\n",
    "    rama_clasificacion = layers.Dropout(0.3)(rama_clasificacion)\n",
    "    rama_clasificacion = layers.Dense(64, activation=\"relu\")(rama_clasificacion)\n",
    "    rama_clasificacion = layers.Dense(3)(rama_clasificacion)\n",
    "    rama_clasificacion = layers.Activation(\"softmax\", name=\"grade\")(rama_clasificacion)\n",
    "\n",
    "    return rama_clasificacion"
   ]
  },
  {
   "cell_type": "code",
   "execution_count": 62,
   "metadata": {},
   "outputs": [],
   "source": [
    "from keras import backend as K\n",
    "def recall_m(y_true, y_pred):\n",
    "    true_positives = K.sum(K.round(K.clip(y_true * y_pred, 0, 1)))\n",
    "    possible_positives = K.sum(K.round(K.clip(y_true, 0, 1)))\n",
    "    recall = true_positives / (possible_positives + K.epsilon())\n",
    "    return recall\n",
    "\n",
    "def precision_m(y_true, y_pred):\n",
    "    true_positives = K.sum(K.round(K.clip(y_true * y_pred, 0, 1)))\n",
    "    predicted_positives = K.sum(K.round(K.clip(y_pred, 0, 1)))\n",
    "    precision = true_positives / (predicted_positives + K.epsilon())\n",
    "    return precision\n",
    "\n",
    "def f1_m(y_true, y_pred):\n",
    "    precision = precision_m(y_true, y_pred)\n",
    "    recall = recall_m(y_true, y_pred)\n",
    "    return 2*((precision*recall)/(precision+recall+K.epsilon()))"
   ]
  },
  {
   "cell_type": "code",
   "execution_count": 63,
   "metadata": {},
   "outputs": [],
   "source": [
    "from tensorflow.keras.applications import EfficientNetB3\n",
    "\n",
    "input_text = layers.Input(shape=(33))\n",
    "\n",
    "base_model = EfficientNetB3(include_top=False, weights='imagenet', input_shape=(240,240,3))\n",
    "base = base_model.output\n",
    "base = layers.GlobalAveragePooling2D()(base)\n",
    "rama_clasificacion = completar_modelo(base, input_text)\n",
    "\n",
    "# Model to be trained\n",
    "def_model = Model(inputs=[base_model.input, input_text], outputs=rama_clasificacion, name=\"deforestation_model\")\n",
    "\n",
    "# Training only top layers i.e. the layers which we have added in the end\n",
    "for layer in base_model.layers:\n",
    "    layer.trainable = False"
   ]
  },
  {
   "cell_type": "code",
   "execution_count": 64,
   "metadata": {
    "scrolled": true
   },
   "outputs": [
    {
     "name": "stdout",
     "output_type": "stream",
     "text": [
      "Epoch 1/50\n",
      "21/21 [==============================] - 82s 4s/step - loss: 0.8748 - accuracy: 0.6146 - f1_m: 0.5733 - val_loss: 42.5413 - val_accuracy: 0.0875 - val_f1_m: 0.0875\n",
      "Epoch 2/50\n",
      "21/21 [==============================] - 81s 4s/step - loss: 0.6932 - accuracy: 0.7016 - f1_m: 0.6698 - val_loss: 71.0665 - val_accuracy: 0.0875 - val_f1_m: 0.0875\n",
      "Epoch 3/50\n",
      "21/21 [==============================] - 80s 4s/step - loss: 0.6317 - accuracy: 0.7344 - f1_m: 0.7049 - val_loss: 83.3393 - val_accuracy: 0.0906 - val_f1_m: 0.0906\n",
      "Epoch 4/50\n",
      "21/21 [==============================] - 85s 4s/step - loss: 0.5789 - accuracy: 0.7649 - f1_m: 0.7350 - val_loss: 85.6715 - val_accuracy: 0.0906 - val_f1_m: 0.0906\n",
      "Epoch 5/50\n",
      "21/21 [==============================] - 88s 4s/step - loss: 0.5642 - accuracy: 0.7723 - f1_m: 0.7528 - val_loss: 89.4769 - val_accuracy: 0.0938 - val_f1_m: 0.0937\n",
      "Epoch 6/50\n",
      "21/21 [==============================] - 82s 4s/step - loss: 0.5319 - accuracy: 0.7842 - f1_m: 0.7722 - val_loss: 79.6780 - val_accuracy: 0.1000 - val_f1_m: 0.1000\n",
      "Epoch 7/50\n",
      "21/21 [==============================] - 84s 4s/step - loss: 0.5000 - accuracy: 0.7969 - f1_m: 0.7831 - val_loss: 68.1109 - val_accuracy: 0.1031 - val_f1_m: 0.1031\n",
      "Epoch 8/50\n",
      "21/21 [==============================] - 87s 4s/step - loss: 0.4796 - accuracy: 0.8073 - f1_m: 0.7947 - val_loss: 63.2793 - val_accuracy: 0.0969 - val_f1_m: 0.0969\n",
      "Epoch 9/50\n",
      "21/21 [==============================] - 84s 4s/step - loss: 0.4693 - accuracy: 0.8006 - f1_m: 0.7927 - val_loss: 49.3029 - val_accuracy: 0.0969 - val_f1_m: 0.0969\n",
      "Epoch 10/50\n",
      "21/21 [==============================] - 84s 4s/step - loss: 0.4575 - accuracy: 0.8207 - f1_m: 0.8085 - val_loss: 38.3242 - val_accuracy: 0.0969 - val_f1_m: 0.0969\n",
      "Epoch 11/50\n",
      "21/21 [==============================] - 81s 4s/step - loss: 0.4295 - accuracy: 0.8222 - f1_m: 0.8167 - val_loss: 25.0338 - val_accuracy: 0.0969 - val_f1_m: 0.0969\n",
      "Epoch 12/50\n",
      "21/21 [==============================] - 82s 4s/step - loss: 0.3978 - accuracy: 0.8445 - f1_m: 0.8381 - val_loss: 7.7715 - val_accuracy: 0.4031 - val_f1_m: 0.4031\n",
      "Epoch 13/50\n",
      "21/21 [==============================] - 81s 4s/step - loss: 0.4064 - accuracy: 0.8341 - f1_m: 0.8302 - val_loss: 8.8902 - val_accuracy: 0.4062 - val_f1_m: 0.4062\n",
      "Epoch 14/50\n",
      "21/21 [==============================] - 81s 4s/step - loss: 0.3849 - accuracy: 0.8460 - f1_m: 0.8392 - val_loss: 6.1362 - val_accuracy: 0.4031 - val_f1_m: 0.4031\n",
      "Epoch 15/50\n",
      "21/21 [==============================] - 80s 4s/step - loss: 0.3817 - accuracy: 0.8393 - f1_m: 0.8397 - val_loss: 8.4571 - val_accuracy: 0.3906 - val_f1_m: 0.3906\n",
      "Epoch 16/50\n",
      "21/21 [==============================] - 83s 4s/step - loss: 0.3566 - accuracy: 0.8601 - f1_m: 0.8530 - val_loss: 5.9999 - val_accuracy: 0.4156 - val_f1_m: 0.4156\n",
      "Epoch 17/50\n",
      "21/21 [==============================] - 86s 4s/step - loss: 0.3444 - accuracy: 0.8698 - f1_m: 0.8609 - val_loss: 6.5047 - val_accuracy: 0.4500 - val_f1_m: 0.4500\n",
      "Epoch 18/50\n",
      "21/21 [==============================] - 81s 4s/step - loss: 0.3275 - accuracy: 0.8720 - f1_m: 0.8670 - val_loss: 17.2299 - val_accuracy: 0.4031 - val_f1_m: 0.4031\n",
      "Epoch 19/50\n",
      "21/21 [==============================] - 80s 4s/step - loss: 0.3322 - accuracy: 0.8720 - f1_m: 0.8660 - val_loss: 32.2204 - val_accuracy: 0.4125 - val_f1_m: 0.4125\n",
      "Epoch 20/50\n",
      "21/21 [==============================] - 81s 4s/step - loss: 0.3133 - accuracy: 0.8735 - f1_m: 0.8710 - val_loss: 20.3695 - val_accuracy: 0.4125 - val_f1_m: 0.4125\n",
      "Epoch 21/50\n",
      "21/21 [==============================] - 80s 4s/step - loss: 0.3107 - accuracy: 0.8720 - f1_m: 0.8719 - val_loss: 15.2727 - val_accuracy: 0.4031 - val_f1_m: 0.4031\n",
      "Epoch 22/50\n",
      "21/21 [==============================] - 81s 4s/step - loss: 0.3005 - accuracy: 0.8862 - f1_m: 0.8848 - val_loss: 20.3063 - val_accuracy: 0.3844 - val_f1_m: 0.3844\n",
      "Epoch 23/50\n",
      "21/21 [==============================] - 80s 4s/step - loss: 0.2795 - accuracy: 0.8906 - f1_m: 0.8894 - val_loss: 11.9838 - val_accuracy: 0.3844 - val_f1_m: 0.3844\n",
      "Epoch 24/50\n",
      "21/21 [==============================] - 83s 4s/step - loss: 0.2830 - accuracy: 0.8906 - f1_m: 0.8914 - val_loss: 11.5102 - val_accuracy: 0.3969 - val_f1_m: 0.3969\n",
      "Epoch 25/50\n",
      "21/21 [==============================] - 82s 4s/step - loss: 0.2524 - accuracy: 0.9025 - f1_m: 0.9001 - val_loss: 9.0740 - val_accuracy: 0.6094 - val_f1_m: 0.6094\n",
      "Epoch 26/50\n",
      "21/21 [==============================] - 80s 4s/step - loss: 0.2463 - accuracy: 0.9055 - f1_m: 0.9028 - val_loss: 13.2736 - val_accuracy: 0.4000 - val_f1_m: 0.4000\n"
     ]
    }
   ],
   "source": [
    "epochs = 50\n",
    "def_model.compile(optimizer=Adam(learning_rate=0.0005),\n",
    "            loss=\"categorical_crossentropy\",\n",
    "            metrics = ['accuracy', f1_m]\n",
    ")\n",
    "\n",
    "batch_size = 64\n",
    "train_batch_size =  batch_size\n",
    "valid_batch_size = 32\n",
    "train_gen = data_generator.generate_data(train_index, is_training=True, batch_size=train_batch_size)\n",
    "valid_gen = data_generator.generate_data(valid_index, is_training=True, batch_size=valid_batch_size)\n",
    "\n",
    "earylyStopping = EarlyStopping(monitor='val_accuracy', patience=20, restore_best_weights=True)\n",
    "callbacks = [earylyStopping]\n",
    "\n",
    "history = def_model.fit(train_gen,\n",
    "                    steps_per_epoch=(len(train_index))//batch_size,\n",
    "                    epochs=epochs,\n",
    "                    callbacks=callbacks,\n",
    "                    validation_data=valid_gen,\n",
    "                    validation_steps=(len(valid_index))//valid_batch_size,\n",
    "                    verbose=1)"
   ]
  },
  {
   "cell_type": "code",
   "execution_count": 65,
   "metadata": {},
   "outputs": [],
   "source": [
    "def_model.save('C:/Users/Usuario/Desktop/HACK/hack2/NSVM_nuwe_hackaton/train_test_data/def_model.h5')"
   ]
  },
  {
   "cell_type": "markdown",
   "metadata": {},
   "source": [
    "## Segundo entrenamiento"
   ]
  },
  {
   "cell_type": "code",
   "execution_count": 219,
   "metadata": {},
   "outputs": [
    {
     "name": "stdout",
     "output_type": "stream",
     "text": [
      "Epoch 1/30\n",
      "21/21 [==============================] - 86s 4s/step - loss: 0.3540 - accuracy: 0.8609 - f1_m: 0.8574 - val_loss: 10.7167 - val_accuracy: 0.4031 - val_f1_m: 0.4031\n",
      "Epoch 2/30\n",
      "21/21 [==============================] - 91s 4s/step - loss: 0.3374 - accuracy: 0.8624 - f1_m: 0.8613 - val_loss: 13.5815 - val_accuracy: 0.4062 - val_f1_m: 0.4062\n",
      "Epoch 3/30\n",
      "21/21 [==============================] - 104s 5s/step - loss: 0.3287 - accuracy: 0.8668 - f1_m: 0.8675 - val_loss: 23.5369 - val_accuracy: 0.4125 - val_f1_m: 0.4125\n",
      "Epoch 4/30\n",
      "21/21 [==============================] - 99s 5s/step - loss: 0.3236 - accuracy: 0.8609 - f1_m: 0.8603 - val_loss: 23.3075 - val_accuracy: 0.4125 - val_f1_m: 0.4125\n",
      "Epoch 5/30\n",
      "21/21 [==============================] - 87s 4s/step - loss: 0.3070 - accuracy: 0.8824 - f1_m: 0.8833 - val_loss: 31.7824 - val_accuracy: 0.3969 - val_f1_m: 0.3969\n",
      "Epoch 6/30\n",
      "21/21 [==============================] - 101s 5s/step - loss: 0.2864 - accuracy: 0.8884 - f1_m: 0.8868 - val_loss: 33.4627 - val_accuracy: 0.3938 - val_f1_m: 0.3937\n",
      "Epoch 7/30\n",
      "21/21 [==============================] - 96s 5s/step - loss: 0.2780 - accuracy: 0.8943 - f1_m: 0.8937 - val_loss: 29.0954 - val_accuracy: 0.4031 - val_f1_m: 0.4031\n",
      "Epoch 8/30\n",
      "21/21 [==============================] - 102s 5s/step - loss: 0.2505 - accuracy: 0.9100 - f1_m: 0.9088 - val_loss: 22.9823 - val_accuracy: 0.4187 - val_f1_m: 0.4187\n",
      "Epoch 9/30\n",
      "21/21 [==============================] - 98s 5s/step - loss: 0.2719 - accuracy: 0.8899 - f1_m: 0.8902 - val_loss: 13.2842 - val_accuracy: 0.4375 - val_f1_m: 0.4375\n",
      "Epoch 10/30\n",
      "21/21 [==============================] - 96s 5s/step - loss: 0.2452 - accuracy: 0.9055 - f1_m: 0.9045 - val_loss: 14.0445 - val_accuracy: 0.4219 - val_f1_m: 0.4219\n",
      "Epoch 11/30\n",
      "21/21 [==============================] - 96s 5s/step - loss: 0.2441 - accuracy: 0.9033 - f1_m: 0.9027 - val_loss: 19.3505 - val_accuracy: 0.3969 - val_f1_m: 0.3969\n",
      "Epoch 12/30\n",
      "21/21 [==============================] - 96s 5s/step - loss: 0.2417 - accuracy: 0.9137 - f1_m: 0.9105 - val_loss: 23.3942 - val_accuracy: 0.4031 - val_f1_m: 0.4031\n",
      "Epoch 13/30\n",
      "21/21 [==============================] - 98s 5s/step - loss: 0.2241 - accuracy: 0.9167 - f1_m: 0.9152 - val_loss: 30.5799 - val_accuracy: 0.4062 - val_f1_m: 0.4062\n",
      "Epoch 14/30\n",
      "21/21 [==============================] - 98s 5s/step - loss: 0.2277 - accuracy: 0.9122 - f1_m: 0.9131 - val_loss: 36.4818 - val_accuracy: 0.4031 - val_f1_m: 0.4031\n",
      "Epoch 15/30\n",
      "21/21 [==============================] - 99s 5s/step - loss: 0.2203 - accuracy: 0.9107 - f1_m: 0.9083 - val_loss: 10.1361 - val_accuracy: 0.6062 - val_f1_m: 0.6062\n",
      "Epoch 16/30\n",
      "21/21 [==============================] - 96s 5s/step - loss: 0.2078 - accuracy: 0.9263 - f1_m: 0.9239 - val_loss: 7.9059 - val_accuracy: 0.6594 - val_f1_m: 0.6594\n",
      "Epoch 17/30\n",
      "21/21 [==============================] - 98s 5s/step - loss: 0.2104 - accuracy: 0.9204 - f1_m: 0.9198 - val_loss: 15.2513 - val_accuracy: 0.4000 - val_f1_m: 0.4000\n",
      "Epoch 18/30\n",
      "21/21 [==============================] - 97s 5s/step - loss: 0.2278 - accuracy: 0.9092 - f1_m: 0.9083 - val_loss: 24.7930 - val_accuracy: 0.4031 - val_f1_m: 0.4031\n",
      "Epoch 19/30\n",
      "21/21 [==============================] - 97s 5s/step - loss: 0.2007 - accuracy: 0.9249 - f1_m: 0.9261 - val_loss: 38.7858 - val_accuracy: 0.4125 - val_f1_m: 0.4125\n",
      "Epoch 20/30\n",
      "21/21 [==============================] - 98s 5s/step - loss: 0.1944 - accuracy: 0.9286 - f1_m: 0.9272 - val_loss: 29.0345 - val_accuracy: 0.4125 - val_f1_m: 0.4125\n",
      "Epoch 21/30\n",
      "21/21 [==============================] - 98s 5s/step - loss: 0.2055 - accuracy: 0.9189 - f1_m: 0.9207 - val_loss: 17.6109 - val_accuracy: 0.4031 - val_f1_m: 0.4031\n",
      "Epoch 22/30\n",
      "21/21 [==============================] - 99s 5s/step - loss: 0.1866 - accuracy: 0.9226 - f1_m: 0.9220 - val_loss: 6.6091 - val_accuracy: 0.7063 - val_f1_m: 0.7062\n",
      "Epoch 23/30\n",
      "21/21 [==============================] - 99s 5s/step - loss: 0.2005 - accuracy: 0.9263 - f1_m: 0.9252 - val_loss: 14.4993 - val_accuracy: 0.5125 - val_f1_m: 0.5125\n",
      "Epoch 24/30\n",
      "21/21 [==============================] - 98s 5s/step - loss: 0.2010 - accuracy: 0.9286 - f1_m: 0.9285 - val_loss: 27.3768 - val_accuracy: 0.5031 - val_f1_m: 0.5031\n",
      "Epoch 25/30\n",
      "21/21 [==============================] - 101s 5s/step - loss: 0.1831 - accuracy: 0.9345 - f1_m: 0.9365 - val_loss: 5.5199 - val_accuracy: 0.5125 - val_f1_m: 0.5125\n",
      "Epoch 26/30\n",
      "21/21 [==============================] - 97s 5s/step - loss: 0.1845 - accuracy: 0.9360 - f1_m: 0.9349 - val_loss: 20.4966 - val_accuracy: 0.5063 - val_f1_m: 0.5062\n",
      "Epoch 27/30\n",
      "21/21 [==============================] - 99s 5s/step - loss: 0.1806 - accuracy: 0.9368 - f1_m: 0.9372 - val_loss: 22.3166 - val_accuracy: 0.5094 - val_f1_m: 0.5094\n",
      "Epoch 28/30\n",
      "21/21 [==============================] - 108s 5s/step - loss: 0.1827 - accuracy: 0.9315 - f1_m: 0.9316 - val_loss: 16.3551 - val_accuracy: 0.5031 - val_f1_m: 0.5031\n",
      "Epoch 29/30\n",
      "21/21 [==============================] - 102s 5s/step - loss: 0.1706 - accuracy: 0.9405 - f1_m: 0.9406 - val_loss: 24.8900 - val_accuracy: 0.4938 - val_f1_m: 0.4937\n",
      "Epoch 30/30\n",
      "21/21 [==============================] - 97s 5s/step - loss: 0.1501 - accuracy: 0.9494 - f1_m: 0.9481 - val_loss: 13.9126 - val_accuracy: 0.5000 - val_f1_m: 0.5000\n"
     ]
    }
   ],
   "source": [
    "epochs = 30\n",
    "def_model.compile(optimizer=Adam(learning_rate=0.0005),\n",
    "            loss=\"categorical_crossentropy\",\n",
    "            metrics = ['accuracy', f1_m]\n",
    ")\n",
    "\n",
    "batch_size = 64\n",
    "train_batch_size =  batch_size\n",
    "valid_batch_size = 32\n",
    "train_gen = data_generator.generate_data(train_index, is_training=True, batch_size=train_batch_size)\n",
    "valid_gen = data_generator.generate_data(valid_index, is_training=True, batch_size=valid_batch_size)\n",
    "\n",
    "earylyStopping = EarlyStopping(monitor='val_accuracy', patience=20, restore_best_weights=True)\n",
    "callbacks = [earylyStopping]\n",
    "\n",
    "history = def_model.fit(train_gen,\n",
    "                    steps_per_epoch=(len(train_index))//batch_size,\n",
    "                    epochs=epochs,\n",
    "                    callbacks=callbacks,\n",
    "                    validation_data=valid_gen,\n",
    "                    validation_steps=(len(valid_index))//valid_batch_size,\n",
    "                    verbose=1)"
   ]
  },
  {
   "cell_type": "code",
   "execution_count": 220,
   "metadata": {},
   "outputs": [],
   "source": [
    "def_model.save('C:/Users/Usuario/Desktop/HACK/hack2/NSVM_nuwe_hackaton/train_test_data/def_model2.h5')"
   ]
  },
  {
   "cell_type": "code",
   "execution_count": 221,
   "metadata": {},
   "outputs": [],
   "source": [
    "data_generator = Data_generator(test_df, 1, image_width, image_height, image_depth)\n",
    "test_index, aux = data_generator.generate_split_indexes()"
   ]
  },
  {
   "cell_type": "code",
   "execution_count": 222,
   "metadata": {},
   "outputs": [],
   "source": [
    "test_batch_size = len(test_index)\n",
    "test_generator = data_generator.generate_data(test_index, is_training=False, batch_size=test_batch_size )\n",
    "pred = def_model.predict(test_generator)"
   ]
  },
  {
   "cell_type": "code",
   "execution_count": 223,
   "metadata": {},
   "outputs": [],
   "source": [
    "pred_int = [i.tolist().index(max(i)) for i in pred]"
   ]
  },
  {
   "cell_type": "code",
   "execution_count": 224,
   "metadata": {},
   "outputs": [],
   "source": [
    "df_pred = pd.DataFrame(pred_int, columns=['target'])"
   ]
  },
  {
   "cell_type": "code",
   "execution_count": 225,
   "metadata": {},
   "outputs": [],
   "source": [
    "df_pred.to_json('C:/Users/Usuario/Desktop/HACK/hack2/NSVM_nuwe_hackaton/train_test_data/pred2.json')"
   ]
  },
  {
   "cell_type": "code",
   "execution_count": null,
   "metadata": {},
   "outputs": [],
   "source": []
  }
 ],
 "metadata": {
  "kernelspec": {
   "display_name": "Python 3 (ipykernel)",
   "language": "python",
   "name": "python3"
  },
  "language_info": {
   "codemirror_mode": {
    "name": "ipython",
    "version": 3
   },
   "file_extension": ".py",
   "mimetype": "text/x-python",
   "name": "python",
   "nbconvert_exporter": "python",
   "pygments_lexer": "ipython3",
   "version": "3.8.0"
  }
 },
 "nbformat": 4,
 "nbformat_minor": 1
}
